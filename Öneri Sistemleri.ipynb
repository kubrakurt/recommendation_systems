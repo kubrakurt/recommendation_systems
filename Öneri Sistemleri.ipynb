{
 "cells": [
  {
   "cell_type": "markdown",
   "metadata": {},
   "source": [
    "# *Öneri Sistemleri*"
   ]
  },
  {
   "cell_type": "markdown",
   "metadata": {},
   "source": [
    "# 1. Basit Tavsiyeler\n",
    "\n",
    "* #### Bu tavsiye sistemi filmlere verilen puanlara ve oy veren sayısına göre en iyi filmleri listeleyecektir. \n",
    "* #### Bunu yaparken ağırlıklı derecelendirme kullanılacaktır.\n",
    "* #### Ağırlıklı derecelendirme formülü: **WeightedRating(WR) = ((v/(v+m)) * R) + ((m/(v+m)) * C)**\n",
    "* #### **v** = filmin oy sayısı\n",
    "* #### **m** = çizelgede listelenmesi gereken oylar\n",
    "* #### **R** = filmin ortama puanı\n",
    "* #### **C** = verinin tamamındaki ortalama oy"
   ]
  },
  {
   "cell_type": "code",
   "execution_count": 1,
   "metadata": {},
   "outputs": [],
   "source": [
    "import pandas as pd \n",
    "import numpy as np"
   ]
  },
  {
   "cell_type": "code",
   "execution_count": 2,
   "metadata": {},
   "outputs": [],
   "source": [
    "movie = pd.read_csv('movie.csv')\n",
    "rating = pd.read_csv('rating.csv').drop(\"timestamp\", axis = 1) # timestamp değişkenini kullanmayacağız"
   ]
  },
  {
   "cell_type": "code",
   "execution_count": 3,
   "metadata": {},
   "outputs": [
    {
     "data": {
      "text/html": [
       "<div>\n",
       "<style scoped>\n",
       "    .dataframe tbody tr th:only-of-type {\n",
       "        vertical-align: middle;\n",
       "    }\n",
       "\n",
       "    .dataframe tbody tr th {\n",
       "        vertical-align: top;\n",
       "    }\n",
       "\n",
       "    .dataframe thead th {\n",
       "        text-align: right;\n",
       "    }\n",
       "</style>\n",
       "<table border=\"1\" class=\"dataframe\">\n",
       "  <thead>\n",
       "    <tr style=\"text-align: right;\">\n",
       "      <th></th>\n",
       "      <th>movieId</th>\n",
       "      <th>title</th>\n",
       "      <th>genres</th>\n",
       "    </tr>\n",
       "  </thead>\n",
       "  <tbody>\n",
       "    <tr>\n",
       "      <th>0</th>\n",
       "      <td>1</td>\n",
       "      <td>Toy Story (1995)</td>\n",
       "      <td>Adventure|Animation|Children|Comedy|Fantasy</td>\n",
       "    </tr>\n",
       "    <tr>\n",
       "      <th>1</th>\n",
       "      <td>2</td>\n",
       "      <td>Jumanji (1995)</td>\n",
       "      <td>Adventure|Children|Fantasy</td>\n",
       "    </tr>\n",
       "    <tr>\n",
       "      <th>2</th>\n",
       "      <td>3</td>\n",
       "      <td>Grumpier Old Men (1995)</td>\n",
       "      <td>Comedy|Romance</td>\n",
       "    </tr>\n",
       "    <tr>\n",
       "      <th>3</th>\n",
       "      <td>4</td>\n",
       "      <td>Waiting to Exhale (1995)</td>\n",
       "      <td>Comedy|Drama|Romance</td>\n",
       "    </tr>\n",
       "    <tr>\n",
       "      <th>4</th>\n",
       "      <td>5</td>\n",
       "      <td>Father of the Bride Part II (1995)</td>\n",
       "      <td>Comedy</td>\n",
       "    </tr>\n",
       "  </tbody>\n",
       "</table>\n",
       "</div>"
      ],
      "text/plain": [
       "   movieId                               title  \\\n",
       "0        1                    Toy Story (1995)   \n",
       "1        2                      Jumanji (1995)   \n",
       "2        3             Grumpier Old Men (1995)   \n",
       "3        4            Waiting to Exhale (1995)   \n",
       "4        5  Father of the Bride Part II (1995)   \n",
       "\n",
       "                                        genres  \n",
       "0  Adventure|Animation|Children|Comedy|Fantasy  \n",
       "1                   Adventure|Children|Fantasy  \n",
       "2                               Comedy|Romance  \n",
       "3                         Comedy|Drama|Romance  \n",
       "4                                       Comedy  "
      ]
     },
     "execution_count": 3,
     "metadata": {},
     "output_type": "execute_result"
    }
   ],
   "source": [
    "movie.head()"
   ]
  },
  {
   "cell_type": "code",
   "execution_count": 4,
   "metadata": {},
   "outputs": [
    {
     "data": {
      "text/html": [
       "<div>\n",
       "<style scoped>\n",
       "    .dataframe tbody tr th:only-of-type {\n",
       "        vertical-align: middle;\n",
       "    }\n",
       "\n",
       "    .dataframe tbody tr th {\n",
       "        vertical-align: top;\n",
       "    }\n",
       "\n",
       "    .dataframe thead th {\n",
       "        text-align: right;\n",
       "    }\n",
       "</style>\n",
       "<table border=\"1\" class=\"dataframe\">\n",
       "  <thead>\n",
       "    <tr style=\"text-align: right;\">\n",
       "      <th></th>\n",
       "      <th>userId</th>\n",
       "      <th>movieId</th>\n",
       "      <th>rating</th>\n",
       "    </tr>\n",
       "  </thead>\n",
       "  <tbody>\n",
       "    <tr>\n",
       "      <th>0</th>\n",
       "      <td>1</td>\n",
       "      <td>2</td>\n",
       "      <td>3.5</td>\n",
       "    </tr>\n",
       "    <tr>\n",
       "      <th>1</th>\n",
       "      <td>1</td>\n",
       "      <td>29</td>\n",
       "      <td>3.5</td>\n",
       "    </tr>\n",
       "    <tr>\n",
       "      <th>2</th>\n",
       "      <td>1</td>\n",
       "      <td>32</td>\n",
       "      <td>3.5</td>\n",
       "    </tr>\n",
       "    <tr>\n",
       "      <th>3</th>\n",
       "      <td>1</td>\n",
       "      <td>47</td>\n",
       "      <td>3.5</td>\n",
       "    </tr>\n",
       "    <tr>\n",
       "      <th>4</th>\n",
       "      <td>1</td>\n",
       "      <td>50</td>\n",
       "      <td>3.5</td>\n",
       "    </tr>\n",
       "  </tbody>\n",
       "</table>\n",
       "</div>"
      ],
      "text/plain": [
       "   userId  movieId  rating\n",
       "0       1        2     3.5\n",
       "1       1       29     3.5\n",
       "2       1       32     3.5\n",
       "3       1       47     3.5\n",
       "4       1       50     3.5"
      ]
     },
     "execution_count": 4,
     "metadata": {},
     "output_type": "execute_result"
    }
   ],
   "source": [
    "rating.head()"
   ]
  },
  {
   "cell_type": "code",
   "execution_count": 5,
   "metadata": {},
   "outputs": [
    {
     "data": {
      "text/plain": [
       "movieId     int64\n",
       "title      object\n",
       "genres     object\n",
       "dtype: object"
      ]
     },
     "execution_count": 5,
     "metadata": {},
     "output_type": "execute_result"
    }
   ],
   "source": [
    "movie.dtypes"
   ]
  },
  {
   "cell_type": "code",
   "execution_count": 6,
   "metadata": {},
   "outputs": [
    {
     "data": {
      "text/plain": [
       "userId       int64\n",
       "movieId      int64\n",
       "rating     float64\n",
       "dtype: object"
      ]
     },
     "execution_count": 6,
     "metadata": {},
     "output_type": "execute_result"
    }
   ],
   "source": [
    "rating.dtypes"
   ]
  },
  {
   "cell_type": "code",
   "execution_count": 7,
   "metadata": {},
   "outputs": [],
   "source": [
    "movie[\"movieId\"] = movie[\"movieId\"].astype(object)\n",
    "rating[\"movieId\"] = rating[\"movieId\"].astype(object)\n",
    "rating[\"userId\"] = rating[\"userId\"].astype(object)"
   ]
  },
  {
   "cell_type": "code",
   "execution_count": 8,
   "metadata": {},
   "outputs": [
    {
     "data": {
      "text/plain": [
       "movieId    0\n",
       "title      0\n",
       "genres     0\n",
       "dtype: int64"
      ]
     },
     "execution_count": 8,
     "metadata": {},
     "output_type": "execute_result"
    }
   ],
   "source": [
    "movie.isnull().sum()"
   ]
  },
  {
   "cell_type": "code",
   "execution_count": 9,
   "metadata": {},
   "outputs": [
    {
     "data": {
      "text/plain": [
       "userId     0\n",
       "movieId    0\n",
       "rating     0\n",
       "dtype: int64"
      ]
     },
     "execution_count": 9,
     "metadata": {},
     "output_type": "execute_result"
    }
   ],
   "source": [
    "rating.isnull().sum()"
   ]
  },
  {
   "cell_type": "markdown",
   "metadata": {},
   "source": [
    "* #### Veri üzerinde değişikliğe gidilmeden önce tüm oyların ortalamasını alıyoruz."
   ]
  },
  {
   "cell_type": "code",
   "execution_count": 10,
   "metadata": {},
   "outputs": [
    {
     "data": {
      "text/plain": [
       "3.5255285642993797"
      ]
     },
     "execution_count": 10,
     "metadata": {},
     "output_type": "execute_result"
    }
   ],
   "source": [
    "C = rating[\"rating\"].mean()\n",
    "C"
   ]
  },
  {
   "cell_type": "markdown",
   "metadata": {},
   "source": [
    "* #### Bir filmin ortalama derecesinin 5'lik bir ölçekte 3.52 civarında olduğunu görüyoruz.\n",
    "* #### Öncelikle **rating** verisini film **Id**’lerine göre kaç tane kullanıcı tarafından kaç oy alındığına dair grupluyoruz. \n",
    "* #### Daha sonradan da index üzerinde düzenlemeler yapıyoruz."
   ]
  },
  {
   "cell_type": "code",
   "execution_count": 11,
   "metadata": {},
   "outputs": [
    {
     "data": {
      "text/html": [
       "<div>\n",
       "<style scoped>\n",
       "    .dataframe tbody tr th:only-of-type {\n",
       "        vertical-align: middle;\n",
       "    }\n",
       "\n",
       "    .dataframe tbody tr th {\n",
       "        vertical-align: top;\n",
       "    }\n",
       "\n",
       "    .dataframe thead th {\n",
       "        text-align: right;\n",
       "    }\n",
       "</style>\n",
       "<table border=\"1\" class=\"dataframe\">\n",
       "  <thead>\n",
       "    <tr style=\"text-align: right;\">\n",
       "      <th></th>\n",
       "      <th>userId</th>\n",
       "      <th>rating</th>\n",
       "      <th>movieId</th>\n",
       "    </tr>\n",
       "  </thead>\n",
       "  <tbody>\n",
       "    <tr>\n",
       "      <th>0</th>\n",
       "      <td>49695</td>\n",
       "      <td>49695</td>\n",
       "      <td>1</td>\n",
       "    </tr>\n",
       "    <tr>\n",
       "      <th>1</th>\n",
       "      <td>22243</td>\n",
       "      <td>22243</td>\n",
       "      <td>2</td>\n",
       "    </tr>\n",
       "    <tr>\n",
       "      <th>2</th>\n",
       "      <td>12735</td>\n",
       "      <td>12735</td>\n",
       "      <td>3</td>\n",
       "    </tr>\n",
       "    <tr>\n",
       "      <th>3</th>\n",
       "      <td>2756</td>\n",
       "      <td>2756</td>\n",
       "      <td>4</td>\n",
       "    </tr>\n",
       "    <tr>\n",
       "      <th>4</th>\n",
       "      <td>12161</td>\n",
       "      <td>12161</td>\n",
       "      <td>5</td>\n",
       "    </tr>\n",
       "    <tr>\n",
       "      <th>...</th>\n",
       "      <td>...</td>\n",
       "      <td>...</td>\n",
       "      <td>...</td>\n",
       "    </tr>\n",
       "    <tr>\n",
       "      <th>26739</th>\n",
       "      <td>1</td>\n",
       "      <td>1</td>\n",
       "      <td>131254</td>\n",
       "    </tr>\n",
       "    <tr>\n",
       "      <th>26740</th>\n",
       "      <td>1</td>\n",
       "      <td>1</td>\n",
       "      <td>131256</td>\n",
       "    </tr>\n",
       "    <tr>\n",
       "      <th>26741</th>\n",
       "      <td>1</td>\n",
       "      <td>1</td>\n",
       "      <td>131258</td>\n",
       "    </tr>\n",
       "    <tr>\n",
       "      <th>26742</th>\n",
       "      <td>1</td>\n",
       "      <td>1</td>\n",
       "      <td>131260</td>\n",
       "    </tr>\n",
       "    <tr>\n",
       "      <th>26743</th>\n",
       "      <td>1</td>\n",
       "      <td>1</td>\n",
       "      <td>131262</td>\n",
       "    </tr>\n",
       "  </tbody>\n",
       "</table>\n",
       "<p>26744 rows × 3 columns</p>\n",
       "</div>"
      ],
      "text/plain": [
       "       userId  rating  movieId\n",
       "0       49695   49695        1\n",
       "1       22243   22243        2\n",
       "2       12735   12735        3\n",
       "3        2756    2756        4\n",
       "4       12161   12161        5\n",
       "...       ...     ...      ...\n",
       "26739       1       1   131254\n",
       "26740       1       1   131256\n",
       "26741       1       1   131258\n",
       "26742       1       1   131260\n",
       "26743       1       1   131262\n",
       "\n",
       "[26744 rows x 3 columns]"
      ]
     },
     "execution_count": 11,
     "metadata": {},
     "output_type": "execute_result"
    }
   ],
   "source": [
    "rating_count = rating.groupby([\"movieId\"]).count()\n",
    "rating_count[\"movieId\"] = rating_count.index\n",
    "rating_count.index.name = None\n",
    "rating_count.reset_index(inplace = True)\n",
    "del rating_count[\"index\"]\n",
    "rating_count"
   ]
  },
  {
   "cell_type": "markdown",
   "metadata": {},
   "source": [
    "* #### Şimdi de **rating** verisini film **Id**’lerine göre ortalamalarını veren yeni bir veri ortaya koyuyoruz. \n",
    "* #### Daha sonradan bu veri üzerinde de index düzenlemeleri yapıyoruz."
   ]
  },
  {
   "cell_type": "code",
   "execution_count": 12,
   "metadata": {},
   "outputs": [
    {
     "data": {
      "text/html": [
       "<div>\n",
       "<style scoped>\n",
       "    .dataframe tbody tr th:only-of-type {\n",
       "        vertical-align: middle;\n",
       "    }\n",
       "\n",
       "    .dataframe tbody tr th {\n",
       "        vertical-align: top;\n",
       "    }\n",
       "\n",
       "    .dataframe thead th {\n",
       "        text-align: right;\n",
       "    }\n",
       "</style>\n",
       "<table border=\"1\" class=\"dataframe\">\n",
       "  <thead>\n",
       "    <tr style=\"text-align: right;\">\n",
       "      <th></th>\n",
       "      <th>mean</th>\n",
       "      <th>movieId</th>\n",
       "    </tr>\n",
       "  </thead>\n",
       "  <tbody>\n",
       "    <tr>\n",
       "      <th>0</th>\n",
       "      <td>3.921240</td>\n",
       "      <td>1</td>\n",
       "    </tr>\n",
       "    <tr>\n",
       "      <th>1</th>\n",
       "      <td>3.211977</td>\n",
       "      <td>2</td>\n",
       "    </tr>\n",
       "    <tr>\n",
       "      <th>2</th>\n",
       "      <td>3.151040</td>\n",
       "      <td>3</td>\n",
       "    </tr>\n",
       "    <tr>\n",
       "      <th>3</th>\n",
       "      <td>2.861393</td>\n",
       "      <td>4</td>\n",
       "    </tr>\n",
       "    <tr>\n",
       "      <th>4</th>\n",
       "      <td>3.064592</td>\n",
       "      <td>5</td>\n",
       "    </tr>\n",
       "    <tr>\n",
       "      <th>...</th>\n",
       "      <td>...</td>\n",
       "      <td>...</td>\n",
       "    </tr>\n",
       "    <tr>\n",
       "      <th>26739</th>\n",
       "      <td>4.000000</td>\n",
       "      <td>131254</td>\n",
       "    </tr>\n",
       "    <tr>\n",
       "      <th>26740</th>\n",
       "      <td>4.000000</td>\n",
       "      <td>131256</td>\n",
       "    </tr>\n",
       "    <tr>\n",
       "      <th>26741</th>\n",
       "      <td>2.500000</td>\n",
       "      <td>131258</td>\n",
       "    </tr>\n",
       "    <tr>\n",
       "      <th>26742</th>\n",
       "      <td>3.000000</td>\n",
       "      <td>131260</td>\n",
       "    </tr>\n",
       "    <tr>\n",
       "      <th>26743</th>\n",
       "      <td>4.000000</td>\n",
       "      <td>131262</td>\n",
       "    </tr>\n",
       "  </tbody>\n",
       "</table>\n",
       "<p>26744 rows × 2 columns</p>\n",
       "</div>"
      ],
      "text/plain": [
       "           mean  movieId\n",
       "0      3.921240        1\n",
       "1      3.211977        2\n",
       "2      3.151040        3\n",
       "3      2.861393        4\n",
       "4      3.064592        5\n",
       "...         ...      ...\n",
       "26739  4.000000   131254\n",
       "26740  4.000000   131256\n",
       "26741  2.500000   131258\n",
       "26742  3.000000   131260\n",
       "26743  4.000000   131262\n",
       "\n",
       "[26744 rows x 2 columns]"
      ]
     },
     "execution_count": 12,
     "metadata": {},
     "output_type": "execute_result"
    }
   ],
   "source": [
    "means = rating.groupby([\"movieId\"]).mean()\n",
    "means[\"movieId\"] = means.index\n",
    "means.index.name = None\n",
    "means.reset_index(inplace = True)\n",
    "del means[\"index\"]\n",
    "means = means.rename(columns = {\"rating\":\"mean\"}) \n",
    "means"
   ]
  },
  {
   "cell_type": "markdown",
   "metadata": {},
   "source": [
    "* #### Şimdi ise elde ettiğimiz iki veriyi merge ile **movieId** değişkenine göre birleştiriyoruz."
   ]
  },
  {
   "cell_type": "code",
   "execution_count": 13,
   "metadata": {},
   "outputs": [
    {
     "data": {
      "text/html": [
       "<div>\n",
       "<style scoped>\n",
       "    .dataframe tbody tr th:only-of-type {\n",
       "        vertical-align: middle;\n",
       "    }\n",
       "\n",
       "    .dataframe tbody tr th {\n",
       "        vertical-align: top;\n",
       "    }\n",
       "\n",
       "    .dataframe thead th {\n",
       "        text-align: right;\n",
       "    }\n",
       "</style>\n",
       "<table border=\"1\" class=\"dataframe\">\n",
       "  <thead>\n",
       "    <tr style=\"text-align: right;\">\n",
       "      <th></th>\n",
       "      <th>movieId</th>\n",
       "      <th>title</th>\n",
       "      <th>genres</th>\n",
       "      <th>userId</th>\n",
       "      <th>rating</th>\n",
       "      <th>mean</th>\n",
       "    </tr>\n",
       "  </thead>\n",
       "  <tbody>\n",
       "    <tr>\n",
       "      <th>0</th>\n",
       "      <td>1</td>\n",
       "      <td>Toy Story (1995)</td>\n",
       "      <td>Adventure|Animation|Children|Comedy|Fantasy</td>\n",
       "      <td>49695</td>\n",
       "      <td>49695</td>\n",
       "      <td>3.921240</td>\n",
       "    </tr>\n",
       "    <tr>\n",
       "      <th>1</th>\n",
       "      <td>2</td>\n",
       "      <td>Jumanji (1995)</td>\n",
       "      <td>Adventure|Children|Fantasy</td>\n",
       "      <td>22243</td>\n",
       "      <td>22243</td>\n",
       "      <td>3.211977</td>\n",
       "    </tr>\n",
       "    <tr>\n",
       "      <th>2</th>\n",
       "      <td>3</td>\n",
       "      <td>Grumpier Old Men (1995)</td>\n",
       "      <td>Comedy|Romance</td>\n",
       "      <td>12735</td>\n",
       "      <td>12735</td>\n",
       "      <td>3.151040</td>\n",
       "    </tr>\n",
       "    <tr>\n",
       "      <th>3</th>\n",
       "      <td>4</td>\n",
       "      <td>Waiting to Exhale (1995)</td>\n",
       "      <td>Comedy|Drama|Romance</td>\n",
       "      <td>2756</td>\n",
       "      <td>2756</td>\n",
       "      <td>2.861393</td>\n",
       "    </tr>\n",
       "    <tr>\n",
       "      <th>4</th>\n",
       "      <td>5</td>\n",
       "      <td>Father of the Bride Part II (1995)</td>\n",
       "      <td>Comedy</td>\n",
       "      <td>12161</td>\n",
       "      <td>12161</td>\n",
       "      <td>3.064592</td>\n",
       "    </tr>\n",
       "  </tbody>\n",
       "</table>\n",
       "</div>"
      ],
      "text/plain": [
       "  movieId                               title  \\\n",
       "0       1                    Toy Story (1995)   \n",
       "1       2                      Jumanji (1995)   \n",
       "2       3             Grumpier Old Men (1995)   \n",
       "3       4            Waiting to Exhale (1995)   \n",
       "4       5  Father of the Bride Part II (1995)   \n",
       "\n",
       "                                        genres  userId  rating      mean  \n",
       "0  Adventure|Animation|Children|Comedy|Fantasy   49695   49695  3.921240  \n",
       "1                   Adventure|Children|Fantasy   22243   22243  3.211977  \n",
       "2                               Comedy|Romance   12735   12735  3.151040  \n",
       "3                         Comedy|Drama|Romance    2756    2756  2.861393  \n",
       "4                                       Comedy   12161   12161  3.064592  "
      ]
     },
     "execution_count": 13,
     "metadata": {},
     "output_type": "execute_result"
    }
   ],
   "source": [
    "df = pd.merge(movie, rating_count)\n",
    "df = pd.merge(df, means)\n",
    "df.head()"
   ]
  },
  {
   "cell_type": "markdown",
   "metadata": {},
   "source": [
    "* #### 90. persentilde bir filmin aldığı oy sayısını, **m** olarak hesaplıyoruz."
   ]
  },
  {
   "cell_type": "code",
   "execution_count": 14,
   "metadata": {},
   "outputs": [
    {
     "data": {
      "text/plain": [
       "1305.7000000000007"
      ]
     },
     "execution_count": 14,
     "metadata": {},
     "output_type": "execute_result"
    }
   ],
   "source": [
    "m = df[\"userId\"].quantile(0.90)\n",
    "m"
   ]
  },
  {
   "cell_type": "markdown",
   "metadata": {},
   "source": [
    "* #### Oylama sayısına göre uygun olan filmler;"
   ]
  },
  {
   "cell_type": "code",
   "execution_count": 15,
   "metadata": {},
   "outputs": [
    {
     "data": {
      "text/plain": [
       "(2675, 6)"
      ]
     },
     "execution_count": 15,
     "metadata": {},
     "output_type": "execute_result"
    }
   ],
   "source": [
    "q_movies = df.copy().loc[df[\"userId\"] >= m]\n",
    "q_movies.shape"
   ]
  },
  {
   "cell_type": "markdown",
   "metadata": {},
   "source": [
    "* #### Bu listede 2675 tane film yer almaktadır. \n",
    "* #### Her nitelikli film için metrik hesaplanması gerekiyor. \n",
    "* #### Bunun için **weighted_rating()** tanımlayacak ve score bu işlemi nitelikli filmlere uygulayacak.\n",
    "* #### Her filmin ağırlıklı derecelendirmesini hesaplayan işlev;"
   ]
  },
  {
   "cell_type": "code",
   "execution_count": 16,
   "metadata": {},
   "outputs": [],
   "source": [
    "def weighted_rating(x, m=m, C=C):\n",
    "    v = x[\"userId\"]\n",
    "    R = x[\"mean\"]\n",
    "    return (v/(v+m) * R) + (m/(m+v) * C)"
   ]
  },
  {
   "cell_type": "markdown",
   "metadata": {},
   "source": [
    "* #### Yeni bir özellik **score** tanımlayıp değerini **weightted_rating()** ile hesaplıyoruz.\n",
    "* #### Ardından veriyi bu özelliğe göre sıralıyoruz. \n",
    "* #### En iyi film sıralamasını ortaya çıkarıyoruz."
   ]
  },
  {
   "cell_type": "code",
   "execution_count": 17,
   "metadata": {},
   "outputs": [
    {
     "data": {
      "text/html": [
       "<div>\n",
       "<style scoped>\n",
       "    .dataframe tbody tr th:only-of-type {\n",
       "        vertical-align: middle;\n",
       "    }\n",
       "\n",
       "    .dataframe tbody tr th {\n",
       "        vertical-align: top;\n",
       "    }\n",
       "\n",
       "    .dataframe thead th {\n",
       "        text-align: right;\n",
       "    }\n",
       "</style>\n",
       "<table border=\"1\" class=\"dataframe\">\n",
       "  <thead>\n",
       "    <tr style=\"text-align: right;\">\n",
       "      <th></th>\n",
       "      <th>movieId</th>\n",
       "      <th>title</th>\n",
       "      <th>genres</th>\n",
       "      <th>userId</th>\n",
       "      <th>rating</th>\n",
       "      <th>mean</th>\n",
       "      <th>score</th>\n",
       "    </tr>\n",
       "  </thead>\n",
       "  <tbody>\n",
       "    <tr>\n",
       "      <th>315</th>\n",
       "      <td>318</td>\n",
       "      <td>Shawshank Redemption, The (1994)</td>\n",
       "      <td>Crime|Drama</td>\n",
       "      <td>63366</td>\n",
       "      <td>63366</td>\n",
       "      <td>4.446990</td>\n",
       "      <td>4.428386</td>\n",
       "    </tr>\n",
       "    <tr>\n",
       "      <th>843</th>\n",
       "      <td>858</td>\n",
       "      <td>Godfather, The (1972)</td>\n",
       "      <td>Crime|Drama</td>\n",
       "      <td>41355</td>\n",
       "      <td>41355</td>\n",
       "      <td>4.364732</td>\n",
       "      <td>4.339047</td>\n",
       "    </tr>\n",
       "    <tr>\n",
       "      <th>49</th>\n",
       "      <td>50</td>\n",
       "      <td>Usual Suspects, The (1995)</td>\n",
       "      <td>Crime|Mystery|Thriller</td>\n",
       "      <td>47006</td>\n",
       "      <td>47006</td>\n",
       "      <td>4.334372</td>\n",
       "      <td>4.312512</td>\n",
       "    </tr>\n",
       "    <tr>\n",
       "      <th>523</th>\n",
       "      <td>527</td>\n",
       "      <td>Schindler's List (1993)</td>\n",
       "      <td>Drama|War</td>\n",
       "      <td>50054</td>\n",
       "      <td>50054</td>\n",
       "      <td>4.310175</td>\n",
       "      <td>4.290227</td>\n",
       "    </tr>\n",
       "    <tr>\n",
       "      <th>1195</th>\n",
       "      <td>1221</td>\n",
       "      <td>Godfather: Part II, The (1974)</td>\n",
       "      <td>Crime|Drama</td>\n",
       "      <td>27398</td>\n",
       "      <td>27398</td>\n",
       "      <td>4.275641</td>\n",
       "      <td>4.241519</td>\n",
       "    </tr>\n",
       "    <tr>\n",
       "      <th>895</th>\n",
       "      <td>912</td>\n",
       "      <td>Casablanca (1942)</td>\n",
       "      <td>Drama|Romance</td>\n",
       "      <td>24349</td>\n",
       "      <td>24349</td>\n",
       "      <td>4.258327</td>\n",
       "      <td>4.221031</td>\n",
       "    </tr>\n",
       "    <tr>\n",
       "      <th>887</th>\n",
       "      <td>904</td>\n",
       "      <td>Rear Window (1954)</td>\n",
       "      <td>Mystery|Thriller</td>\n",
       "      <td>17449</td>\n",
       "      <td>17449</td>\n",
       "      <td>4.271334</td>\n",
       "      <td>4.219411</td>\n",
       "    </tr>\n",
       "    <tr>\n",
       "      <th>1169</th>\n",
       "      <td>1193</td>\n",
       "      <td>One Flew Over the Cuckoo's Nest (1975)</td>\n",
       "      <td>Drama</td>\n",
       "      <td>29932</td>\n",
       "      <td>29932</td>\n",
       "      <td>4.248079</td>\n",
       "      <td>4.217877</td>\n",
       "    </tr>\n",
       "    <tr>\n",
       "      <th>737</th>\n",
       "      <td>750</td>\n",
       "      <td>Dr. Strangelove or: How I Learned to Stop Worr...</td>\n",
       "      <td>Comedy|War</td>\n",
       "      <td>23220</td>\n",
       "      <td>23220</td>\n",
       "      <td>4.247287</td>\n",
       "      <td>4.208862</td>\n",
       "    </tr>\n",
       "    <tr>\n",
       "      <th>2873</th>\n",
       "      <td>2959</td>\n",
       "      <td>Fight Club (1999)</td>\n",
       "      <td>Action|Crime|Drama|Thriller</td>\n",
       "      <td>40106</td>\n",
       "      <td>40106</td>\n",
       "      <td>4.227123</td>\n",
       "      <td>4.205002</td>\n",
       "    </tr>\n",
       "  </tbody>\n",
       "</table>\n",
       "</div>"
      ],
      "text/plain": [
       "     movieId                                              title  \\\n",
       "315      318                   Shawshank Redemption, The (1994)   \n",
       "843      858                              Godfather, The (1972)   \n",
       "49        50                         Usual Suspects, The (1995)   \n",
       "523      527                            Schindler's List (1993)   \n",
       "1195    1221                     Godfather: Part II, The (1974)   \n",
       "895      912                                  Casablanca (1942)   \n",
       "887      904                                 Rear Window (1954)   \n",
       "1169    1193             One Flew Over the Cuckoo's Nest (1975)   \n",
       "737      750  Dr. Strangelove or: How I Learned to Stop Worr...   \n",
       "2873    2959                                  Fight Club (1999)   \n",
       "\n",
       "                           genres  userId  rating      mean     score  \n",
       "315                   Crime|Drama   63366   63366  4.446990  4.428386  \n",
       "843                   Crime|Drama   41355   41355  4.364732  4.339047  \n",
       "49         Crime|Mystery|Thriller   47006   47006  4.334372  4.312512  \n",
       "523                     Drama|War   50054   50054  4.310175  4.290227  \n",
       "1195                  Crime|Drama   27398   27398  4.275641  4.241519  \n",
       "895                 Drama|Romance   24349   24349  4.258327  4.221031  \n",
       "887              Mystery|Thriller   17449   17449  4.271334  4.219411  \n",
       "1169                        Drama   29932   29932  4.248079  4.217877  \n",
       "737                    Comedy|War   23220   23220  4.247287  4.208862  \n",
       "2873  Action|Crime|Drama|Thriller   40106   40106  4.227123  4.205002  "
      ]
     },
     "execution_count": 17,
     "metadata": {},
     "output_type": "execute_result"
    }
   ],
   "source": [
    "q_movies[\"score\"] = q_movies.apply(weighted_rating, axis = 1)\n",
    "q_movies = q_movies.sort_values(\"score\", ascending = False)\n",
    "q_movies.head(10)"
   ]
  },
  {
   "cell_type": "markdown",
   "metadata": {},
   "source": [
    "# 2. İçeriğe Dayalı Tavsiyeler\n",
    "* #### Bu kısımda da filmlerin türlerine göre benzer filmleri veren bir tavsiye sistemi uygulayacağız."
   ]
  },
  {
   "cell_type": "code",
   "execution_count": 18,
   "metadata": {},
   "outputs": [
    {
     "data": {
      "text/html": [
       "<div>\n",
       "<style scoped>\n",
       "    .dataframe tbody tr th:only-of-type {\n",
       "        vertical-align: middle;\n",
       "    }\n",
       "\n",
       "    .dataframe tbody tr th {\n",
       "        vertical-align: top;\n",
       "    }\n",
       "\n",
       "    .dataframe thead th {\n",
       "        text-align: right;\n",
       "    }\n",
       "</style>\n",
       "<table border=\"1\" class=\"dataframe\">\n",
       "  <thead>\n",
       "    <tr style=\"text-align: right;\">\n",
       "      <th></th>\n",
       "      <th>genres</th>\n",
       "    </tr>\n",
       "  </thead>\n",
       "  <tbody>\n",
       "    <tr>\n",
       "      <th>0</th>\n",
       "      <td>Adventure|Animation|Children|Comedy|Fantasy</td>\n",
       "    </tr>\n",
       "    <tr>\n",
       "      <th>1</th>\n",
       "      <td>Adventure|Children|Fantasy</td>\n",
       "    </tr>\n",
       "    <tr>\n",
       "      <th>2</th>\n",
       "      <td>Comedy|Romance</td>\n",
       "    </tr>\n",
       "    <tr>\n",
       "      <th>3</th>\n",
       "      <td>Comedy|Drama|Romance</td>\n",
       "    </tr>\n",
       "    <tr>\n",
       "      <th>4</th>\n",
       "      <td>Comedy</td>\n",
       "    </tr>\n",
       "  </tbody>\n",
       "</table>\n",
       "</div>"
      ],
      "text/plain": [
       "                                        genres\n",
       "0  Adventure|Animation|Children|Comedy|Fantasy\n",
       "1                   Adventure|Children|Fantasy\n",
       "2                               Comedy|Romance\n",
       "3                         Comedy|Drama|Romance\n",
       "4                                       Comedy"
      ]
     },
     "execution_count": 18,
     "metadata": {},
     "output_type": "execute_result"
    }
   ],
   "source": [
    "df[[\"genres\"]].head()"
   ]
  },
  {
   "cell_type": "markdown",
   "metadata": {},
   "source": [
    "* #### Terim Frekansı - Ters Belge Frekansı (TF-IDF) vektörlerini hesaplayacağız."
   ]
  },
  {
   "cell_type": "code",
   "execution_count": 19,
   "metadata": {},
   "outputs": [],
   "source": [
    "from sklearn.feature_extraction.text import TfidfVectorizer"
   ]
  },
  {
   "cell_type": "markdown",
   "metadata": {},
   "source": [
    "* #### \"**The**\" ve \"**a**\" gibi verileri kaldıralım.\n",
    "* #### Ardından **TF-IDF** matrisini oluşturalım."
   ]
  },
  {
   "cell_type": "code",
   "execution_count": 20,
   "metadata": {},
   "outputs": [
    {
     "data": {
      "text/plain": [
       "(26744, 23)"
      ]
     },
     "execution_count": 20,
     "metadata": {},
     "output_type": "execute_result"
    }
   ],
   "source": [
    "tfidf = TfidfVectorizer(stop_words = \"english\")\n",
    "df[\"genres\"] = df[\"genres\"].fillna(\"|\")\n",
    "\n",
    "tfidf_matrix = tfidf.fit_transform(df[\"genres\"])\n",
    "tfidf_matrix.shape"
   ]
  },
  {
   "cell_type": "markdown",
   "metadata": {},
   "source": [
    "* #### 26744 film için 23 farklı tür olduğunu görüyoruz.\n",
    "* #### Bu matris ile benzerlik skorunu **kosinüs benzerliğini** kullanarak hesaplayacağız.\n",
    "* #### Kosinüs skoru büyüklükten bağımsızdır.\n",
    "* #### Hesaplanması bir tık daha kolaydır.\n",
    "* #### Formül: **cosine(x,y) = (x.y^T) / (||x|| * ||y||)**\n",
    "* #### Kosinüs benzerlik matrisini hesaplıyoruz;"
   ]
  },
  {
   "cell_type": "code",
   "execution_count": 21,
   "metadata": {},
   "outputs": [
    {
     "data": {
      "text/plain": [
       "array([[1.        , 0.81357273, 0.15892789, ..., 0.41950984, 0.        ,\n",
       "        0.53762513],\n",
       "       [0.81357273, 1.        , 0.        , ..., 0.51563901, 0.        ,\n",
       "        0.66081999],\n",
       "       [0.15892789, 0.        , 1.        , ..., 0.        , 0.        ,\n",
       "        0.        ],\n",
       "       ...,\n",
       "       [0.41950984, 0.51563901, 0.        , ..., 1.        , 0.        ,\n",
       "        0.55606527],\n",
       "       [0.        , 0.        , 0.        , ..., 0.        , 1.        ,\n",
       "        0.        ],\n",
       "       [0.53762513, 0.66081999, 0.        , ..., 0.55606527, 0.        ,\n",
       "        1.        ]])"
      ]
     },
     "execution_count": 21,
     "metadata": {},
     "output_type": "execute_result"
    }
   ],
   "source": [
    "from sklearn.metrics.pairwise import linear_kernel\n",
    "\n",
    "cosine_sim = linear_kernel(tfidf_matrix, tfidf_matrix)\n",
    "cosine_sim"
   ]
  },
  {
   "cell_type": "markdown",
   "metadata": {},
   "source": [
    "* #### Film başlığını giriş olarak alan ve en çok benzeyen 10 filmi veren bir işlev çıkaracağız."
   ]
  },
  {
   "cell_type": "code",
   "execution_count": 22,
   "metadata": {},
   "outputs": [
    {
     "data": {
      "text/plain": [
       "title\n",
       "Toy Story (1995)                          0\n",
       "Jumanji (1995)                            1\n",
       "Grumpier Old Men (1995)                   2\n",
       "Waiting to Exhale (1995)                  3\n",
       "Father of the Bride Part II (1995)        4\n",
       "                                      ...  \n",
       "Kein Bund für's Leben (2007)          26739\n",
       "Feuer, Eis & Dosenbier (2002)         26740\n",
       "The Pirates (2014)                    26741\n",
       "Rentun Ruusu (2001)                   26742\n",
       "Innocence (2014)                      26743\n",
       "Length: 26744, dtype: int64"
      ]
     },
     "execution_count": 22,
     "metadata": {},
     "output_type": "execute_result"
    }
   ],
   "source": [
    "indices = pd.Series(df.index, index = df[\"title\"]).drop_duplicates()\n",
    "indices"
   ]
  },
  {
   "cell_type": "markdown",
   "metadata": {},
   "source": [
    "### Öneri fonksiyonunu tanımlayacağız. İzlenecek adımlar;\n",
    "* #### Başlıkla eşleşen film dizini alınır.\n",
    "* #### Bu filmle tüm filmlerin benzerlik puanları alınır.\n",
    "* #### Filmler benzerlik puanına göre sıralanır.\n",
    "* #### En çok benzeyen 10 filmin puanları alınır.\n",
    "* #### Film dizinleri edinilir.\n",
    "* #### En çok benzeyen 10 film listelenir."
   ]
  },
  {
   "cell_type": "code",
   "execution_count": 23,
   "metadata": {},
   "outputs": [],
   "source": [
    "def get_recommendations(title, cosine_sim = cosine_sim):\n",
    "    idx = indices[title]\n",
    "    sim_scores = list(enumerate(cosine_sim[idx]))\n",
    "    sim_scores = sorted(sim_scores, key = lambda x : x[1], reverse = True)\n",
    "    sim_scores = sim_scores[1:11]\n",
    "    movie_indices = [i[0] for i in sim_scores]\n",
    "    return df[\"title\"].iloc[movie_indices]"
   ]
  },
  {
   "cell_type": "markdown",
   "metadata": {},
   "source": [
    "* #### **Toy Story (1995)** filmine en çok benzeyen 10 filme bakalım;"
   ]
  },
  {
   "cell_type": "code",
   "execution_count": 24,
   "metadata": {},
   "outputs": [
    {
     "data": {
      "text/plain": [
       "2209                                           Antz (1998)\n",
       "3027                                    Toy Story 2 (1999)\n",
       "3663        Adventures of Rocky and Bullwinkle, The (2000)\n",
       "3922                      Emperor's New Groove, The (2000)\n",
       "4790                                 Monsters, Inc. (2001)\n",
       "10106    DuckTales: The Movie - Treasure of the Lost La...\n",
       "10978                                     Wild, The (2006)\n",
       "11861                               Shrek the Third (2007)\n",
       "13325                       Tale of Despereaux, The (2008)\n",
       "18230    Asterix and the Vikings (Astérix et les Viking...\n",
       "Name: title, dtype: object"
      ]
     },
     "execution_count": 24,
     "metadata": {},
     "output_type": "execute_result"
    }
   ],
   "source": [
    "get_recommendations(\"Toy Story (1995)\")"
   ]
  },
  {
   "cell_type": "markdown",
   "metadata": {},
   "source": [
    "* #### **Innocence (2014)** filmine en çok benzeyen 10 filme bakalım;"
   ]
  },
  {
   "cell_type": "code",
   "execution_count": 25,
   "metadata": {},
   "outputs": [
    {
     "data": {
      "text/plain": [
       "26743                                     Innocence (2014)\n",
       "10535         Great Yokai War, The (Yôkai daisensô) (2005)\n",
       "13887                   Night of the Living Dead 3D (2006)\n",
       "2281                                      King Kong (1933)\n",
       "7261                                        Hellboy (2004)\n",
       "7328                                    Van Helsing (2004)\n",
       "9921     Zu: Warriors from the Magic Mountain (Xin shu ...\n",
       "15181                                  Solomon Kane (2009)\n",
       "20862                             Web of Death, The (1976)\n",
       "22991                   BloodRayne: The Third Reich (2011)\n",
       "Name: title, dtype: object"
      ]
     },
     "execution_count": 25,
     "metadata": {},
     "output_type": "execute_result"
    }
   ],
   "source": [
    "get_recommendations(\"Innocence (2014)\")"
   ]
  },
  {
   "cell_type": "code",
   "execution_count": null,
   "metadata": {},
   "outputs": [],
   "source": []
  }
 ],
 "metadata": {
  "kernelspec": {
   "display_name": "Python 3",
   "language": "python",
   "name": "python3"
  },
  "language_info": {
   "codemirror_mode": {
    "name": "ipython",
    "version": 3
   },
   "file_extension": ".py",
   "mimetype": "text/x-python",
   "name": "python",
   "nbconvert_exporter": "python",
   "pygments_lexer": "ipython3",
   "version": "3.8.3"
  }
 },
 "nbformat": 4,
 "nbformat_minor": 4
}
